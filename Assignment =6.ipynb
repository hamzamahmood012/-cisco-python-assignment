{
 "cells": [
  {
   "cell_type": "code",
   "execution_count": null,
   "metadata": {},
   "outputs": [],
   "source": [
    "\"QUESTION NO1:-\n",
    "\"Define Object Oriented Programming Language?\n",
    "\"ANSWER:-\n",
    "\"Object Oriented Programming Language:-\n",
    "Object-oriented programming (OOP) is a programming language model in which programs are organized around data,\n",
    "or objects, rather than functions and logic.\n",
    "An object can be defined as a data field that has unique attributes and behavior\""
   ]
  },
  {
   "cell_type": "code",
   "execution_count": null,
   "metadata": {},
   "outputs": [],
   "source": [
    "\"QUESTION NO 2 :-\n",
    "\"List down the Benefits of OOP?\n",
    "\"ANSWER:-\n",
    "THE BENEFITS OF OOP:-\n",
    "• Modularity for easier troubleshooting. Something has gone wrong, and you have no idea where to look. ...\n",
    "• Reuse of code through inheritance. ...\n",
    "• Flexibility through polymorphism. ...\n",
    "• Effective problem solving"
   ]
  },
  {
   "cell_type": "code",
   "execution_count": null,
   "metadata": {},
   "outputs": [],
   "source": [
    "\"Question 3:-\n",
    "    \n",
    "    \"Differentiate between function and method?\n",
    "    \n",
    "    \"FUNCTION\"\n",
    "    if we have to use a task again and again we write that task in a function and call it when we need it.\n",
    "    we can pass arguments when calling a funtion if it takes parameters .\n",
    "    in function you have to pass class attributes as parameters else you can use them in function.\n",
    "    \n",
    "    And \n",
    "    \"METHOD\"\n",
    "    Methods are same as functions there are very few differece in methods and functions which are:\n",
    "    1) methods are written in the scope of class\n",
    "    2) methods take \"self\" as first parameter , then you know that its a method\n",
    "    3) self in method takes all the attributes which are defined in class and u can use the attributes \n",
    "    in method using self keyword .\n",
    "    \n",
    "    \n"
   ]
  },
  {
   "cell_type": "code",
   "execution_count": null,
   "metadata": {},
   "outputs": [],
   "source": [
    "\"QUESTION NO 4 :-\"\n",
    "\"Define the following terms:\"\n",
    "1. \"Class\"\n",
    "2. \"Object\"\n",
    "3. \"Attribute\"\n",
    "4. \"Behavior\"\n",
    "\n",
    "\"ANSWER\":-\n",
    "\n",
    "\"CLASS\":-\n",
    "Classes (OOP) In object-oriented programming, \n",
    "A class is a blueprint for creating objects (a particular data structure), providing initial values for state (member variables or attributes),\n",
    "and implementations of behavior (member functions or methods). The user-defined objects are created using the class keyword.\n",
    "\n",
    "\"OBJECT:-\"\n",
    "An object, in object-oriented programming (OOP),\n",
    "is an abstract data type created by a developer. It can include multiple properties and methods and may even contain other objects. \n",
    "In most programming languages, objects are defined as classes.\n",
    "\n",
    "\"ATTRIBUTE:-\"\n",
    "An attribute is a specification that defines a property of an object, element, or file.\n",
    "It may also refer to or set the specific value for a given instance of such.\n",
    "For clarity, attributes should more correctly be considered metadata.\n",
    "'BEHAVIOUR:-\"\n",
    "A class behavior determines how an instance of that class operates; for example,\n",
    "how it will \"react\" if asked to do something by another class or object or if its internal state changes.\n",
    "Behavior is the only way objects can do anything to themselves or have anything done to them."
   ]
  },
  {
   "cell_type": "code",
   "execution_count": 4,
   "metadata": {},
   "outputs": [
    {
     "name": "stdout",
     "output_type": "stream",
     "text": [
      "car name is :  Mehran\n",
      "Suzuki\n",
      "Ahz-562\n"
     ]
    }
   ],
   "source": [
    "#Q5\n",
    "class Car:\n",
    "    def __init__(self,model,color,name,company,number):\n",
    "        self.model=model\n",
    "        self.color=color\n",
    "        self.name=name\n",
    "        self.company=company\n",
    "        self.number=number\n",
    "        \n",
    "    def print_name(self):\n",
    "        print(\"car name is : \",self.name)\n",
    "            \n",
    "    def print_UPdatecompany(self):\n",
    "        self.company=\"Suzuki\"\n",
    "        print(self.company)\n",
    "            \n",
    "    def print_number(self):\n",
    "        print(self.number)\n",
    "            \n",
    "car1=Car('2019','White','Mehran','suzuki','bbc-162')\n",
    "car2=Car('2018','Silver','hijet','daihatsu','Ahz-562')\n",
    "car3=Car('2017','Black','Accord','Honda','ada-431')\n",
    "car4=Car('2016','Blue','Civic','Honda','zsw-312')\n",
    "car5=Car('2015','Black','corolla','Toyota','As-342')\n",
    "\n",
    "\n",
    "\n",
    "car1.print_name()\n",
    "car2.print_UPdatecompany()\n",
    "car2.print_number()"
   ]
  },
  {
   "cell_type": "code",
   "execution_count": null,
   "metadata": {},
   "outputs": [],
   "source": []
  }
 ],
 "metadata": {
  "kernelspec": {
   "display_name": "Python 3",
   "language": "python",
   "name": "python3"
  },
  "language_info": {
   "codemirror_mode": {
    "name": "ipython",
    "version": 3
   },
   "file_extension": ".py",
   "mimetype": "text/x-python",
   "name": "python",
   "nbconvert_exporter": "python",
   "pygments_lexer": "ipython3",
   "version": "3.7.4"
  }
 },
 "nbformat": 4,
 "nbformat_minor": 2
}
