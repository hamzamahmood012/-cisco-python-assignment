{
 "cells": [
  {
   "cell_type": "code",
   "execution_count": 32,
   "metadata": {},
   "outputs": [
    {
     "name": "stdout",
     "output_type": "stream",
     "text": [
      "Eenter a number to calculate the factorial :7\n",
      "5040\n"
     ]
    }
   ],
   "source": [
    "#Q1\n",
    "def factorial(number):\n",
    "    fact=1\n",
    "    for i in range(1,number+1):\n",
    "        fact=fact*i\n",
    "        \n",
    "    return fact\n",
    "number=int(input(\"Eenter a number to calculate the factorial :\"))\n",
    "print(factorial(number))"
   ]
  },
  {
   "cell_type": "code",
   "execution_count": 44,
   "metadata": {},
   "outputs": [
    {
     "name": "stdout",
     "output_type": "stream",
     "text": [
      "Enter a string value with lower and upper case letter HaMzA mAhMoOd\n",
      "Your lower case letter is: 7\n",
      "Your Upper case letter is: 6\n",
      "None\n"
     ]
    }
   ],
   "source": [
    "#Q2\n",
    "\n",
    "def fac(a):\n",
    " u_c=0\n",
    " l_c=0\n",
    " for i in a:\n",
    "    if i.isupper():\n",
    "     u_c+=1\n",
    "    else:\n",
    "      l_c+=1\n",
    "      \n",
    " print(\"Your lower case letter is:\",l_c)\n",
    " print(\"Your Upper case letter is:\",u_c)     \n",
    "print (fac(a=input(\"Enter a string value with lower and upper case letter \")))\n",
    "\n",
    "            "
   ]
  },
  {
   "cell_type": "code",
   "execution_count": 35,
   "metadata": {},
   "outputs": [
    {
     "name": "stdout",
     "output_type": "stream",
     "text": [
      "[2, 12, 6, 20]\n"
     ]
    }
   ],
   "source": [
    "#Q3\n",
    "def even_number(i):\n",
    "    enum = []\n",
    "    for n in i:\n",
    "        if n %2 ==0:\n",
    "            enum.append(n)\n",
    "    return enum\n",
    "print(even_number([1,2,3,12,6,17,17,20,13,23]))"
   ]
  },
  {
   "cell_type": "code",
   "execution_count": 42,
   "metadata": {},
   "outputs": [
    {
     "name": "stdout",
     "output_type": "stream",
     "text": [
      "Enter any word madam\n",
      "madam\n",
      "This is palindrome\n",
      "None\n"
     ]
    }
   ],
   "source": [
    "#Q4\n",
    "      \n",
    "def palindrome(string):\n",
    " str=\"\"\n",
    " for i in string:\n",
    "  str=i+str\n",
    " print(str)\n",
    " if(string==str):\n",
    "  print(\"This is palindrome\")\n",
    " else:\n",
    "  print(\"This is not palindrome\")\n",
    "string=input(\"Enter any word \")\n",
    "print(palindrome(string))"
   ]
  },
  {
   "cell_type": "code",
   "execution_count": 31,
   "metadata": {},
   "outputs": [
    {
     "name": "stdout",
     "output_type": "stream",
     "text": [
      "Enter any number :4\n",
      "is not prime number\n",
      "None\n"
     ]
    }
   ],
   "source": [
    "#Q5\n",
    "def fac(a):\n",
    " if a>1:\n",
    "  for i in range(2,a):\n",
    "    if(a%i)==0:\n",
    "      \n",
    "      print(\"is not prime number\")\n",
    "      break\n",
    "  else:\n",
    "      print(\"prime\")\n",
    " else:\n",
    "   print(\"not prime\")     \n",
    "print (fac(a=int(input(\"Enter any number :\"))))"
   ]
  },
  {
   "cell_type": "code",
   "execution_count": 23,
   "metadata": {},
   "outputs": [
    {
     "name": "stdout",
     "output_type": "stream",
     "text": [
      "you select oats\n",
      "you select milk\n",
      "you select eggs\n"
     ]
    }
   ],
   "source": [
    "#Q6\n",
    "def shoping(*items):\n",
    "    for item in items:\n",
    "        print(\"you select\",item)\n",
    "shoping(\"oats\",\"milk\",\"eggs\")        "
   ]
  },
  {
   "cell_type": "code",
   "execution_count": null,
   "metadata": {},
   "outputs": [],
   "source": []
  }
 ],
 "metadata": {
  "kernelspec": {
   "display_name": "Python 3",
   "language": "python",
   "name": "python3"
  },
  "language_info": {
   "codemirror_mode": {
    "name": "ipython",
    "version": 3
   },
   "file_extension": ".py",
   "mimetype": "text/x-python",
   "name": "python",
   "nbconvert_exporter": "python",
   "pygments_lexer": "ipython3",
   "version": "3.7.4"
  }
 },
 "nbformat": 4,
 "nbformat_minor": 2
}
