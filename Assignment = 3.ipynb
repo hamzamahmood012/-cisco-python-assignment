{
 "cells": [
  {
   "cell_type": "code",
   "execution_count": 6,
   "metadata": {},
   "outputs": [
    {
     "name": "stdout",
     "output_type": "stream",
     "text": [
      "CALCULATOR\n",
      "enter first value 65\n",
      "enter second value 0\n",
      "enter operator +\n",
      "65 answer\n"
     ]
    }
   ],
   "source": [
    "print(\"CALCULATOR\")\n",
    "value1 = int(input(\"enter first value \"))\n",
    "value2 = int(input(\"enter second value \"))\n",
    "operator = (input(\"enter operator \"))\n",
    "\n",
    "if operator == \"+\":\n",
    "    value = value1 + value2\n",
    "    print(value,\"answer\")\n",
    "elif operator == \"-\": \n",
    "    value = value1 - value2\n",
    "    print(value,\"answer\")\n",
    "elif operator == \"*\":\n",
    "    value = value1 * value2\n",
    "    print(value,\"answer\")\n",
    "elif operator == \"/\":\n",
    "    value = value1 / value2\n",
    "    print(value,\"answer\")\n",
    "elif operator == \"**\":\n",
    "    value = value1 ** value2\n",
    "    print(value,\"answer\")\n",
    "else:\n",
    "    print('Enter correct operator')"
   ]
  },
  {
   "cell_type": "code",
   "execution_count": 5,
   "metadata": {},
   "outputs": [
    {
     "name": "stdout",
     "output_type": "stream",
     "text": [
      "Numeric Values are: 2\n",
      "Numeric Values are: 5\n",
      "Numeric Values are: 6\n",
      "Numeric Values are: 8\n",
      "Numeric Values are: 10\n",
      "Numeric Values are: 23\n",
      "Numeric Values are: 45\n"
     ]
    }
   ],
   "source": [
    "a=[2,5,6,8,10,23,45,\"hamza\",\"ALI\"]\n",
    "for i in a:\n",
    "    if type(i)==int or type(i)==float:\n",
    "        print(\"Numeric Values are:\",i)"
   ]
  },
  {
   "cell_type": "code",
   "execution_count": 4,
   "metadata": {},
   "outputs": [
    {
     "name": "stdout",
     "output_type": "stream",
     "text": [
      "Enter Keyhamza\n",
      "Enter valuesjkkds\n",
      "{'hamza': 'jkkds'}\n"
     ]
    }
   ],
   "source": [
    "dic={}\n",
    "key=input(\"Enter Key\")\n",
    "value=input(\"Enter values\")\n",
    "dic.update({key:value})\n",
    "print(dic)"
   ]
  },
  {
   "cell_type": "code",
   "execution_count": 7,
   "metadata": {},
   "outputs": [
    {
     "name": "stdout",
     "output_type": "stream",
     "text": [
      "Sum of All numeric numbers are: 82\n"
     ]
    }
   ],
   "source": [
    "dic={\"a\":\"Ali\",\"b\":\"Bilal\",\"c\":5,\"e\":14,\"f\":34,\"g\":6,\"h\":23}\n",
    "sum=0\n",
    "for i in dic.values():\n",
    "    if type(i)==int:\n",
    "        sum+=i\n",
    "print(\"Sum of All numeric numbers are:\",sum)"
   ]
  },
  {
   "cell_type": "code",
   "execution_count": 3,
   "metadata": {},
   "outputs": [
    {
     "name": "stdout",
     "output_type": "stream",
     "text": [
      "duplicate values are: karachi\n",
      "duplicate values are: lahore\n",
      "duplicate values are: queta\n"
     ]
    }
   ],
   "source": [
    "\n",
    "a=[\"karachi\",\"lahore\",\"queta\",\"islamabad\",\"karachi\",\"queta\",\"lahore\"]\n",
    "for i in range(len(a)):\n",
    "    for j in range(i+1,len(a)):\n",
    "        if a[j]==a[i]:\n",
    "            print(\"duplicate values are:\",a[j])"
   ]
  },
  {
   "cell_type": "code",
   "execution_count": null,
   "metadata": {},
   "outputs": [
    {
     "name": "stdout",
     "output_type": "stream",
     "text": [
      "enter key name  hamza\n",
      "given key does not exist\n",
      "enter key name  num1\n",
      "given key exist\n",
      "enter key name  string\n",
      "given key exist\n",
      "enter key name  mahmood\n",
      "given key does not exist\n"
     ]
    }
   ],
   "source": [
    "\n",
    "z=2\n",
    "while z not in range(2):\n",
    " dic = {\"num1\" : 12,\"num2\": 15,\"num3\" :17,\"string\" : \"name\",\"num4\" :21,}\n",
    " check_key = input(\"enter key name  \")\n",
    " flag = False \n",
    " for i in dic.keys():\n",
    "    if i == check_key:\n",
    "        flag = True\n",
    "        break  \n",
    " if flag:\n",
    "    print(\"given key exist\")\n",
    " else:\n",
    "    print(\"given key does not exist\")"
   ]
  },
  {
   "cell_type": "code",
   "execution_count": null,
   "metadata": {},
   "outputs": [],
   "source": []
  }
 ],
 "metadata": {
  "kernelspec": {
   "display_name": "Python 3",
   "language": "python",
   "name": "python3"
  },
  "language_info": {
   "codemirror_mode": {
    "name": "ipython",
    "version": 3
   },
   "file_extension": ".py",
   "mimetype": "text/x-python",
   "name": "python",
   "nbconvert_exporter": "python",
   "pygments_lexer": "ipython3",
   "version": "3.7.4"
  }
 },
 "nbformat": 4,
 "nbformat_minor": 2
}
