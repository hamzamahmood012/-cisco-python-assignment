{
 "cells": [
  {
   "cell_type": "code",
   "execution_count": 3,
   "metadata": {},
   "outputs": [
    {
     "name": "stdout",
     "output_type": "stream",
     "text": [
      "Hamza\n",
      "Mahmood\n",
      "18\n",
      "karachi\n",
      "Matric\n",
      "after update qulification Inter\n",
      "{'first_name': 'Hamza', 'last_name': 'Mahmood', 'age': '18', 'city': 'karachi'}\n"
     ]
    }
   ],
   "source": [
    "inf ={\n",
    "    \"first_name\" : \"Hamza\",\n",
    "    \"last_name\" : \"Mahmood\",\n",
    "    \"age\" : \"18\",\n",
    "    \"city\" : \"karachi\",\n",
    "}    \n",
    "for i in inf.values():\n",
    "    print(i)\n",
    "inf.update({\"qulification\":\"Matric\"})\n",
    "print(inf[\"qulification\"])\n",
    "\n",
    "inf[\"qulification\"] = \"Inter\"\n",
    "print (\"after update qulification\",inf[\"qulification\"])\n",
    "\n",
    "del inf[\"qulification\"]\n",
    "print(inf)"
   ]
  },
  {
   "cell_type": "code",
   "execution_count": 5,
   "metadata": {},
   "outputs": [
    {
     "name": "stdout",
     "output_type": "stream",
     "text": [
      "Name of the city is  karachi\n",
      "Country Name is :  Pakistan\n",
      "Approximate population is :  14.91 million\n",
      "Fact of the city is :  Karachi is the Capital of Pakistan province of Sindh it is the most populous city in Pakistan\n",
      "\n",
      "\n",
      "Name of the city is  Mumbai\n",
      "Country Name is :  India\n",
      "Approximate population is :  22 million approx\n",
      "Fact of the city is :   this is the country is known as the second most populous country in the world after China\n",
      "\n",
      "\n",
      "Name of the city is  Beiging\n",
      "Country Name is :  China\n",
      "Approximate population is :  21.5 million approx\n",
      "Fact of the city is :  this is the capital city of china it is the 3rd most populous city in China \n",
      "\n",
      "\n"
     ]
    }
   ],
   "source": [
    "city ={\n",
    "    \"karachi\" : {\n",
    "        \"country\": \"Pakistan\",\n",
    "        \"approximate_population\":\"14.91 million\",\n",
    "        \"fact\":\"Karachi is the Capital of Pakistan province of Sindh it is the most populous city in Pakistan\"\n",
    "    },\n",
    "    \"Mumbai\" : {\n",
    "        \"country\": \"India\",\n",
    "        \"approximate_population\":\"22 million approx\",\n",
    "        \"fact\":\" this is the country is known as the second most populous country in the world after China\"\n",
    "    },\n",
    "    \"Beiging\" : {\n",
    "        \"country\": \"China\",\n",
    "        \"approximate_population\":\"21.5 million approx\",\n",
    "        \"fact\":\"this is the capital city of china it is the 3rd most populous city in China \"\n",
    "    }\n",
    "}\n",
    "    \n",
    "for i in city.keys():\n",
    "    print(\"Name of the city is \", i)\n",
    "    print(\"Country Name is : \" , city[i][\"country\"])\n",
    "    print(\"Approximate population is : \" , city[i][\"approximate_population\"])\n",
    "    print(\"Fact of the city is : \" , city[i][\"fact\"])\n",
    "    print(\"\\n\")"
   ]
  },
  {
   "cell_type": "code",
   "execution_count": 10,
   "metadata": {},
   "outputs": [
    {
     "name": "stdout",
     "output_type": "stream",
     "text": [
      "welcome to Movie Theater \n",
      " \n",
      "enter the no of persons:3\n",
      "enter the age of person :  12\n",
      "Your Ticket price is 10$ \n",
      "enter the age of person :  3\n",
      "You are lucky cuz your ticket its free\n",
      "enter the age of person :  7\n",
      "Your Ticket price is 10$ \n",
      "Total_price =  20 \n",
      " Lets Enjoy your Movie\n"
     ]
    }
   ],
   "source": [
    "print (\"welcome to Movie Theater \\n \")\n",
    "\n",
    "persons = int(input(\"enter the no of persons:\"))\n",
    "\n",
    "total_price = 0\n",
    "for i in range(1,persons+1):\n",
    "    age = int(input(\"enter the age of person :  \"))\n",
    "    if age<= 3:\n",
    "        print(\"You are lucky cuz your ticket its free\")\n",
    "    elif age<=12 :\n",
    "        print(\"Your Ticket price is 10$ \")\n",
    "        total_price +=10\n",
    "    else:\n",
    "        print(\"Your ticket price is 15$\")\n",
    "        total_price +=15\n",
    "print(\"Total_price = \",total_price,\"\\n Lets Enjoy your Movie\")        \n",
    "     \n"
   ]
  },
  {
   "cell_type": "code",
   "execution_count": 12,
   "metadata": {},
   "outputs": [
    {
     "name": "stdout",
     "output_type": "stream",
     "text": [
      "enter the book of Title: Alice in wonderland\n",
      "one of my favorite book is  Alice in wonderland\n"
     ]
    }
   ],
   "source": [
    "def Favorite_Book(book_name):\n",
    "    print(\"one of my favorite book is \",book_name)\n",
    "title=input(\"enter the book of Title: \")\n",
    "\n",
    "Favorite_Book(title)\n",
    "    "
   ]
  },
  {
   "cell_type": "code",
   "execution_count": 13,
   "metadata": {},
   "outputs": [
    {
     "name": "stdout",
     "output_type": "stream",
     "text": [
      "Guess The Number Game\n",
      "Guess the number between 1 to 30 : 15\n",
      "Your guess is too high\n",
      "Guess the number between 1 to 30 : 5\n",
      "Your guess is too low\n",
      "Guess the number between 1 to 30 : 4\n",
      "Your guess is too low\n",
      "You Loose\n",
      "Correct Number is  14\n"
     ]
    }
   ],
   "source": [
    "print (\"Guess The Number Game\")\n",
    "import random\n",
    "\n",
    "random_number = random.randrange(1,30)\n",
    "\n",
    "flag = False\n",
    "\n",
    "for i in range(1,4):\n",
    "    guess = int(input(\"Guess the number between 1 to 30 : \"))\n",
    "    if guess == random_number:\n",
    "        flag = True \n",
    "        break\n",
    "    elif guess < random_number:\n",
    "        print(\"Your guess is too low\")\n",
    "    else:\n",
    "        print(\"Your guess is too high\")\n",
    "        \n",
    "if flag:\n",
    "    print(\"Congratulation you Win!!\")\n",
    "else:\n",
    "    print(\"You Loose\")\n",
    "    print(\"Correct Number is \", random_number)"
   ]
  },
  {
   "cell_type": "code",
   "execution_count": null,
   "metadata": {},
   "outputs": [],
   "source": []
  }
 ],
 "metadata": {
  "kernelspec": {
   "display_name": "Python 3",
   "language": "python",
   "name": "python3"
  },
  "language_info": {
   "codemirror_mode": {
    "name": "ipython",
    "version": 3
   },
   "file_extension": ".py",
   "mimetype": "text/x-python",
   "name": "python",
   "nbconvert_exporter": "python",
   "pygments_lexer": "ipython3",
   "version": "3.7.4"
  }
 },
 "nbformat": 4,
 "nbformat_minor": 2
}
